{
    "cells": [
        {
            "cell_type": "markdown",
            "metadata": {
                "collapsed": true
            },
            "source": "# Opening a Cuban Restaurant in Staten Island, NYC."
        },
        {
            "cell_type": "markdown",
            "metadata": {},
            "source": "## Table of contents\n 1. [Introduction](#introduction) \n 2. [Data](#data)\n 3. [Approach](#approach)"
        },
        {
            "cell_type": "markdown",
            "metadata": {},
            "source": "\n## 1. Introduction<a name=\"introduction\"></a>\n\n### 1.1 Business Problem\n\nThere are a group of investors planning to open a new **Cuban Restaurant** in **New York City**, which most critical requirements is to locate their business in the most safe location as possible also would prefer to target neighborhoods with low competition for their business and high foot traffic to have higher visitors potential."
        },
        {
            "cell_type": "markdown",
            "metadata": {},
            "source": "### 1.2 Problem to be resolved\nThe problem to resolve is to find the best candidates **Neighborhoods** for them to invest with highest opportunities to success based on their requirements therefore we need to create a neighborhood rank using following criteria:\n\n 1. **Crime rates** average to below average\n 1. **Number of Restaurants** (any type) average to below average\n 2. **Number of Cuban Restaurants** average to below average\n 3. **Foot traffic** average to above average\n\n\nIn case certain neighborhoods meet all above criteria we would also prefer locations as close to city center as possible, we will use this last requirement as a tiebreaker, if needed.\n\nThe result will contain the best set of candidate **Neighborhoods** for investors to make their final decision."
        },
        {
            "cell_type": "markdown",
            "metadata": {},
            "source": "### 1.3 Interested Audience\n\nIt's targeted to **stakeholders** interested in opening a new **Cuban Restaurant** in **New York**."
        },
        {
            "cell_type": "markdown",
            "metadata": {},
            "source": "## Data<a name=\"data\"></a>\n\nBased on our problem definition, following data sources will be required to generate reliable results, see in addition the metrics they will help to calculate:\n\n1. [New York City Population by Borough](https://data.cityofnewyork.us/)\n - Provide Population by Borough to calculate crime rates\n\n\n2. [New York Crime Data 2019 YTD](https://data.cityofnewyork.us/)\n - Provide the list of reported crime events to calculate crime rates and estimate overall safety indicator at Borough and Neighborhood levels.\n\n\n3. [New York Neighborhoods Data](https://geo.nyu.edu/catalog/nyu_2451_34572)\n - Provide each Staten Island's neighborhood location coordinates to estimate distance from city center.\n \n\n4. [Foursquare API](https://foursquare.com/)\n - Provide information about the most popular spots in each Staten Island's neighborhood from where we will get the number of restaurants(any type) an Cuban's food as well also this will    be another good way to gauge foot traffic in each neighborhood."
        },
        {
            "cell_type": "markdown",
            "metadata": {},
            "source": " ## Approach<a name=\"approach\"></a>\n \n 1. Collect the **New York City** population and crime data from above sources to perform following analysis:\n  - Select safest City to locate the restaurant based in overall crime rates.\n  - Select candidates neighborhood within chosen City with best crime rates as well.\n 2. Using FourSquare API:\n  - Will find all venues for each neighborhood.\n  - Filter out all venues that are Cuban Restaurants.\n  - Find rating , tips and like count for each Cuban Restaurants\n 3. Will sort that data by rating in ascending mode for each restaurant\n 4. Visualize the Ranking of neighborhoods using folium library(python)"
        },
        {
            "cell_type": "markdown",
            "metadata": {},
            "source": " ### Questions that can be asked using the above mentioned datasets\n \n - Which is the safest City in New York and more safer neighborhoods?\n - Which neighborhood have more potential for Restaurant business?\n - Which neighborhood lack Cuban Restaurants?\n - Which is the best place to stay if you prefer Cuban Cuisine?\n - What neighborhood should have the highest foot traffic?\n - What neighborhood are closer to the center of chosen City?\n - What is best neighborhood in chosen City for a Cuban Restaurant?"
        }
    ],
    "metadata": {
        "kernelspec": {
            "display_name": "Python 3.6",
            "language": "python",
            "name": "python3"
        },
        "language_info": {
            "codemirror_mode": {
                "name": "ipython",
                "version": 3
            },
            "file_extension": ".py",
            "mimetype": "text/x-python",
            "name": "python",
            "nbconvert_exporter": "python",
            "pygments_lexer": "ipython3",
            "version": "3.6.9"
        }
    },
    "nbformat": 4,
    "nbformat_minor": 1
}